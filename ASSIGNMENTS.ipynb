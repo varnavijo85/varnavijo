{
  "nbformat": 4,
  "nbformat_minor": 0,
  "metadata": {
    "colab": {
      "provenance": [],
      "authorship_tag": "ABX9TyNAdJqkhxa5XC/MyQc9g57s"
    },
    "kernelspec": {
      "name": "python3",
      "display_name": "Python 3"
    },
    "language_info": {
      "name": "python"
    }
  },
  "cells": [
    {
      "cell_type": "markdown",
      "source": [
        "Example of Tuple and Dictionary"
      ],
      "metadata": {
        "id": "5yPwjePeDZTI"
      }
    },
    {
      "cell_type": "code",
      "source": [
        "tuple1=(234,2,5.68,\"data\",True)\n",
        "print(tuple1)\n",
        "print(len(tuple1))\n",
        "print(type(tuple1))"
      ],
      "metadata": {
        "colab": {
          "base_uri": "https://localhost:8080/"
        },
        "id": "5uH9IfkDDdMZ",
        "outputId": "198a9b0c-88da-4ac5-cf8a-73501ce1976e"
      },
      "execution_count": null,
      "outputs": [
        {
          "output_type": "stream",
          "name": "stdout",
          "text": [
            "(234, 2, 5.68, 'data', True)\n",
            "5\n",
            "<class 'tuple'>\n"
          ]
        }
      ]
    },
    {
      "cell_type": "code",
      "source": [
        "dic1={\"fruit\":\"orange\",\"vegetable\":\"cucumber\",\"herbs\":\"oregano\"}\n",
        "print(dic1)\n",
        "dic1[\"fruit\"]=\"Apple\"\n",
        "print(dic1)\n",
        "dic1[\"nuts\"]=\"cashew\"\n",
        "print(dic1)"
      ],
      "metadata": {
        "colab": {
          "base_uri": "https://localhost:8080/"
        },
        "id": "z7x0IFFbD45T",
        "outputId": "80fe3b75-8f13-43d7-dfb0-a91bc96e1ef0"
      },
      "execution_count": null,
      "outputs": [
        {
          "output_type": "stream",
          "name": "stdout",
          "text": [
            "{'fruit': 'orange', 'vegetable': 'cucumber', 'herbs': 'oregano'}\n",
            "{'fruit': 'Apple', 'vegetable': 'cucumber', 'herbs': 'oregano'}\n",
            "{'fruit': 'Apple', 'vegetable': 'cucumber', 'herbs': 'oregano', 'nuts': 'cashew'}\n"
          ]
        }
      ]
    },
    {
      "cell_type": "markdown",
      "source": [
        "Give an example of r+,w+,a+"
      ],
      "metadata": {
        "id": "uZHoZhhRFCND"
      }
    },
    {
      "cell_type": "code",
      "source": [
        "#r+ means read and write\n"
      ],
      "metadata": {
        "id": "ExUkT68sFOAa"
      },
      "execution_count": null,
      "outputs": []
    }
  ]
}