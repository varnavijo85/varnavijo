{
  "nbformat": 4,
  "nbformat_minor": 0,
  "metadata": {
    "colab": {
      "provenance": [],
      "authorship_tag": "ABX9TyMKe83x03dfGCnXgHpG4ze+",
      "include_colab_link": true
    },
    "kernelspec": {
      "name": "python3",
      "display_name": "Python 3"
    },
    "language_info": {
      "name": "python"
    }
  },
  "cells": [
    {
      "cell_type": "markdown",
      "metadata": {
        "id": "view-in-github",
        "colab_type": "text"
      },
      "source": [
        "<a href=\"https://colab.research.google.com/github/varnavijo85/varnavijo/blob/main/assignment_class2_python.ipynb\" target=\"_parent\"><img src=\"https://colab.research.google.com/assets/colab-badge.svg\" alt=\"Open In Colab\"/></a>"
      ]
    },
    {
      "cell_type": "markdown",
      "source": [
        "ASSIGNMENT OF DATA TYPE \"LIST\" IN PYTHON"
      ],
      "metadata": {
        "id": "0z9BSLeEg909"
      }
    },
    {
      "cell_type": "code",
      "source": [
        "list1=[2,89,100,53.47,897.12,True,\"abc\",'dfg','lty']\n",
        "print('The defined list is',list1)\n",
        "print(\"The value at index number 3 is\",list1[3])\n",
        "list1[5]=False\n",
        "print('The updated list is',list1)\n",
        "list1.append('xyz')\n",
        "print('List after adding another item is',list1)\n",
        "a=[7,8,'jkl']\n",
        "list1.extend(a)\n",
        "print('List after extending its values is',list1)\n",
        "list1.insert(0,2.56)\n",
        "print('List after inserting new value at the specified index number is',list1)\n",
        "del list1[0]\n",
        "print('List after deleting the value at the specified index number is',list1)\n",
        "list1.remove('lty')\n",
        "print('List after removing the specified value is',list1)\n"
      ],
      "metadata": {
        "colab": {
          "base_uri": "https://localhost:8080/"
        },
        "id": "bd9cewCHhOky",
        "outputId": "e888e68c-8a6e-4bfb-d262-445b6615fe2a"
      },
      "execution_count": null,
      "outputs": [
        {
          "output_type": "stream",
          "name": "stdout",
          "text": [
            "The defined list is [2, 89, 100, 53.47, 897.12, True, 'abc', 'dfg', 'lty']\n",
            "The value at index number 3 is 53.47\n",
            "The updated list is [2, 89, 100, 53.47, 897.12, False, 'abc', 'dfg', 'lty']\n",
            "List after adding another item is [2, 89, 100, 53.47, 897.12, False, 'abc', 'dfg', 'lty', 'xyz']\n",
            "List after extending its values is [2, 89, 100, 53.47, 897.12, False, 'abc', 'dfg', 'lty', 'xyz', 7, 8, 'jkl']\n",
            "List after inserting new value at the specified index number is [2.56, 2, 89, 100, 53.47, 897.12, False, 'abc', 'dfg', 'lty', 'xyz', 7, 8, 'jkl']\n",
            "List after deleting the value at the specified index number is [2, 89, 100, 53.47, 897.12, False, 'abc', 'dfg', 'lty', 'xyz', 7, 8, 'jkl']\n",
            "List after removing the specified value is [2, 89, 100, 53.47, 897.12, False, 'abc', 'dfg', 'xyz', 7, 8, 'jkl']\n"
          ]
        }
      ]
    }
  ]
}